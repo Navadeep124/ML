{
  "nbformat": 4,
  "nbformat_minor": 0,
  "metadata": {
    "colab": {
      "provenance": []
    },
    "kernelspec": {
      "name": "python3",
      "display_name": "Python 3"
    },
    "language_info": {
      "name": "python"
    }
  },
  "cells": [
    {
      "cell_type": "code",
      "execution_count": 2,
      "metadata": {
        "colab": {
          "base_uri": "https://localhost:8080/"
        },
        "id": "bH1WBe2hNMd-",
        "outputId": "c81b61f7-2c8d-4480-9f0d-f41ae90bec45"
      },
      "outputs": [
        {
          "output_type": "stream",
          "name": "stdout",
          "text": [
            "Adding nodes:\n",
            "10 -> None\n",
            "10 -> 20 -> None\n",
            "10 -> 20 -> 30 -> None\n",
            "10 -> 20 -> 30 -> 40 -> None\n",
            "10 -> 20 -> 30 -> 40 -> 50 -> None\n",
            "\n",
            "Original List:\n",
            "10 -> 20 -> 30 -> 40 -> 50 -> None\n",
            "Deleting node at position 3 with value '30'\n",
            "\n",
            "List after deleting 3rd node:\n",
            "10 -> 20 -> 40 -> 50 -> None\n",
            "Error: Index out of range.\n",
            "Error: Cannot delete from an empty list.\n"
          ]
        }
      ],
      "source": [
        "class Node:\n",
        "    def __init__(self, data):\n",
        "        self.data = data\n",
        "        self.next = None\n",
        "\n",
        "\n",
        "class LinkedList:\n",
        "    def __init__(self):\n",
        "        self.head = None\n",
        "\n",
        "    def add_node(self, data):\n",
        "        \"\"\"Add a node to the end of the list.\"\"\"\n",
        "        new_node = Node(data)\n",
        "        if not self.head:\n",
        "            self.head = new_node\n",
        "            return\n",
        "\n",
        "        current = self.head\n",
        "        while current.next:\n",
        "            current = current.next\n",
        "        current.next = new_node\n",
        "\n",
        "    def print_list(self):\n",
        "        \"\"\"Print the entire list.\"\"\"\n",
        "        if not self.head:\n",
        "            print(\"The list is empty.\")\n",
        "            return\n",
        "\n",
        "        current = self.head\n",
        "        while current:\n",
        "            print(current.data, end=\" -> \")\n",
        "            current = current.next\n",
        "        print(\"None\")\n",
        "\n",
        "    def delete_nth_node(self, n):\n",
        "        \"\"\"Delete the nth node (1-based index).\"\"\"\n",
        "        if not self.head:\n",
        "            raise IndexError(\"Cannot delete from an empty list.\")\n",
        "\n",
        "        if n <= 0:\n",
        "            raise IndexError(\"Index must be a positive integer.\")\n",
        "\n",
        "        if n == 1:\n",
        "            # Delete head\n",
        "            print(f\"Deleting node at position {n} with value '{self.head.data}'\")\n",
        "            self.head = self.head.next\n",
        "            return\n",
        "\n",
        "        # Traverse to the node before the one to delete\n",
        "        current = self.head\n",
        "        count = 1\n",
        "        while current and count < n - 1:\n",
        "            current = current.next\n",
        "            count += 1\n",
        "\n",
        "        if not current or not current.next:\n",
        "            raise IndexError(\"Index out of range.\")\n",
        "\n",
        "        print(f\"Deleting node at position {n} with value '{current.next.data}'\")\n",
        "        current.next = current.next.next\n",
        "\n",
        "\n",
        "# Sample test\n",
        "if __name__ == \"__main__\":\n",
        "    ll = LinkedList()\n",
        "    sample_data = [10, 20, 30, 40, 50]\n",
        "\n",
        "    print(\"Adding nodes:\")\n",
        "    for item in sample_data:\n",
        "        ll.add_node(item)\n",
        "        ll.print_list()\n",
        "\n",
        "    print(\"\\nOriginal List:\")\n",
        "    ll.print_list()\n",
        "\n",
        "    # Delete the 3rd node\n",
        "    try:\n",
        "        ll.delete_nth_node(3)\n",
        "    except IndexError as e:\n",
        "        print(\"Error:\", e)\n",
        "\n",
        "    print(\"\\nList after deleting 3rd node:\")\n",
        "    ll.print_list()\n",
        "\n",
        "    # Try deleting with invalid index\n",
        "    try:\n",
        "        ll.delete_nth_node(10)\n",
        "    except IndexError as e:\n",
        "        print(\"Error:\", e)\n",
        "\n",
        "    # Try deleting from empty list\n",
        "    empty_ll = LinkedList()\n",
        "    try:\n",
        "        empty_ll.delete_nth_node(1)\n",
        "    except IndexError as e:\n",
        "        print(\"Error:\", e)"
      ]
    },
    {
      "cell_type": "code",
      "source": [],
      "metadata": {
        "id": "eXwdAdptNQEZ"
      },
      "execution_count": null,
      "outputs": []
    }
  ]
}